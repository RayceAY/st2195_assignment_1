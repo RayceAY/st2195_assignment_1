{
 "cells": [
  {
   "cell_type": "markdown",
   "id": "8d0ffe2d",
   "metadata": {},
   "source": [
    "# Printing Integers  \n",
    "\n",
    "We will be printing <font color = 'blue'>all **integers** from **1 to 10**</font> including <font color = 'blue'>**1**</font> & <font color = 'blue'>**10**</font> using a <font color = 'green'>**for loop**</font>. "
   ]
  },
  {
   "cell_type": "code",
   "execution_count": 1,
   "id": "8612d11b",
   "metadata": {},
   "outputs": [
    {
     "name": "stdout",
     "output_type": "stream",
     "text": [
      "1\n",
      "2\n",
      "3\n",
      "4\n",
      "5\n",
      "6\n",
      "7\n",
      "8\n",
      "9\n",
      "10\n"
     ]
    }
   ],
   "source": [
    "for i in range(1, 11):\n",
    "    print(i)"
   ]
  }
 ],
 "metadata": {
  "kernelspec": {
   "display_name": "Python 3",
   "language": "python",
   "name": "python3"
  },
  "language_info": {
   "codemirror_mode": {
    "name": "ipython",
    "version": 3
   },
   "file_extension": ".py",
   "mimetype": "text/x-python",
   "name": "python",
   "nbconvert_exporter": "python",
   "pygments_lexer": "ipython3",
   "version": "3.8.8"
  }
 },
 "nbformat": 4,
 "nbformat_minor": 5
}
